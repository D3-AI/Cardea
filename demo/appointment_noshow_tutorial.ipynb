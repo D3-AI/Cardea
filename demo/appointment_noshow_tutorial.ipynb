{
 "cells": [
  {
   "cell_type": "markdown",
   "metadata": {},
   "source": [
    "## Cardea\n",
    "\n",
    "<img src=\"img/cardea.png\" style=\"width: 200px;\">\n",
    "\n",
    "Cardea is a machine learning library built on top of [FHIR](https://www.hl7.org/fhir/) data standard to solve various common prediction problems from electronic health records. \n",
    "\n",
    "This is a python notebook that demonstrates Cardea's workflow from a user's perspective. It is decomposed based on the elements present in the framework. Documentation: https://d3-ai.github.io/Cardea/\n",
    "\n",
    "Currently in support of **version 0.0.2**.\n",
    "\n",
    "In this tutorial, we show how to predict whether a patient will showup to an appointment using a dataset from Kaggle's [Medical Appointment No Shows](https://www.kaggle.com/joniarroba/noshowappointments). Over 30% of patients miss their scheduled appointments, this results in poor optimization of time and resources. Through machine learning, we want to predict future appointment no-shows by using an end-to-end library that is easy to interpret."
   ]
  },
  {
   "cell_type": "markdown",
   "metadata": {},
   "source": [
    "### Imports"
   ]
  },
  {
   "cell_type": "code",
   "execution_count": 1,
   "metadata": {},
   "outputs": [
    {
     "name": "stderr",
     "output_type": "stream",
     "text": [
      "paramiko missing, opening SSH/SCP/SFTP paths will be disabled.  `pip install paramiko` to suppress\n"
     ]
    }
   ],
   "source": [
    "import pandas as pd\n",
    "import matplotlib.pyplot as plt\n",
    "from sklearn.metrics import accuracy_score\n",
    "\n",
    "from cardea import Cardea"
   ]
  },
  {
   "cell_type": "code",
   "execution_count": 2,
   "metadata": {},
   "outputs": [],
   "source": [
    "# optional\n",
    "import warnings\n",
    "warnings.filterwarnings(\"ignore\")"
   ]
  },
  {
   "cell_type": "markdown",
   "metadata": {},
   "source": [
    "# Cardea\n",
    "\n",
    "After importing the necessary packages, it is time to initialize a new object of cardea. This object will serve as the main pillar to call any method within cardea."
   ]
  },
  {
   "cell_type": "code",
   "execution_count": 3,
   "metadata": {},
   "outputs": [],
   "source": [
    "cd = Cardea()"
   ]
  },
  {
   "cell_type": "markdown",
   "metadata": {},
   "source": [
    "## Load Kaggle Dataset \n",
    "\n",
    "Using cardea's `load_data_entityset`, we can now either load local files that are in [FHIR](https://hl7.org/fhir) format. In order to try out cardea, we want to load kaggle's open dataset instead. Cardea automatically loads the Kaggle dataset into its memory when no folder path is given."
   ]
  },
  {
   "cell_type": "code",
   "execution_count": 4,
   "metadata": {},
   "outputs": [],
   "source": [
    "cd.load_data_entityset()"
   ]
  },
  {
   "cell_type": "code",
   "execution_count": 5,
   "metadata": {},
   "outputs": [
    {
     "data": {
      "text/plain": [
       "Entityset: fhir\n",
       "  Entities:\n",
       "    Address [Rows: 81, Columns: 2]\n",
       "    Appointment_Participant [Rows: 6100, Columns: 2]\n",
       "    Appointment [Rows: 110527, Columns: 5]\n",
       "    CodeableConcept [Rows: 4, Columns: 2]\n",
       "    Coding [Rows: 3, Columns: 2]\n",
       "    Identifier [Rows: 227151, Columns: 1]\n",
       "    Observation [Rows: 110527, Columns: 3]\n",
       "    Patient [Rows: 6100, Columns: 4]\n",
       "    Reference [Rows: 6100, Columns: 1]\n",
       "  Relationships:\n",
       "    Appointment_Participant.actor -> Reference.identifier\n",
       "    Appointment.participant -> Appointment_Participant.object_id\n",
       "    CodeableConcept.coding -> Coding.object_id\n",
       "    Observation.code -> CodeableConcept.object_id\n",
       "    Observation.subject -> Reference.identifier\n",
       "    Patient.address -> Address.object_id"
      ]
     },
     "execution_count": 5,
     "metadata": {},
     "output_type": "execute_result"
    }
   ],
   "source": [
    "# to view the loaded entityset\n",
    "cd.es"
   ]
  },
  {
   "cell_type": "markdown",
   "metadata": {},
   "source": [
    "The first section (entities) represents the resources that were loaded into the framework. In other words, it describes the dataframes available presented with the number of rows and columns. The second section describes the relationship between the resources. For example, the `Patient` resource has an address variable that is connected to the `Address` resource."
   ]
  },
  {
   "cell_type": "markdown",
   "metadata": {},
   "source": [
    "## Problem Definition\n",
    "\n",
    "You can display all the problems currently implemented in cardea under the `list_problems` method."
   ]
  },
  {
   "cell_type": "code",
   "execution_count": 6,
   "metadata": {},
   "outputs": [
    {
     "data": {
      "text/plain": [
       "{'DiagnosisPrediction',\n",
       " 'LengthOfStay',\n",
       " 'MissedAppointmentProblemDefinition',\n",
       " 'MortalityPrediction',\n",
       " 'ProlongedLengthOfStay',\n",
       " 'Readmission'}"
      ]
     },
     "execution_count": 6,
     "metadata": {},
     "output_type": "execute_result"
    }
   ],
   "source": [
    "cd.list_problems()"
   ]
  },
  {
   "cell_type": "markdown",
   "metadata": {},
   "source": [
    "In this case, we will define the problem as ‘Missed Appointment’ to predict whether a patient will miss their next appointment."
   ]
  },
  {
   "cell_type": "code",
   "execution_count": 7,
   "metadata": {},
   "outputs": [],
   "source": [
    "# select problem\n",
    "cutoff = cd.select_problem('MissedAppointmentProblemDefinition')"
   ]
  },
  {
   "cell_type": "markdown",
   "metadata": {},
   "source": [
    "## AutoML\n",
    "Automated machine learning composes from two main phases:\n",
    "1. automated feature engineering: through autofe, we extract information called features. Finding the features is crucial for building data models and help in finding a satisfactory answer and interpreting the dataset as a whole.\n",
    "2. automated modeling: in automated modeling, the library supports running multiple machine learning algorithms and optimizes its hyperparamters in order to find the most optimal model.\n",
    "\n",
    "Typically, this phase is complex and comprises of many elements, but **Cardea** provides an easier way of handling both phases."
   ]
  },
  {
   "cell_type": "code",
   "execution_count": 8,
   "metadata": {
    "scrolled": true
   },
   "outputs": [
    {
     "name": "stdout",
     "output_type": "stream",
     "text": [
      "Built 13 features\n",
      "Elapsed: 00:41 | Remaining: 00:00 | Progress: 100%|██████████| Calculated: 10/10 chunks\n"
     ]
    }
   ],
   "source": [
    "# feature engineering\n",
    "feature_matrix = cd.generate_features(cutoff[:1000]) # first 1000 records"
   ]
  },
  {
   "cell_type": "code",
   "execution_count": 9,
   "metadata": {},
   "outputs": [],
   "source": [
    "# shuffle the dataframe\n",
    "feature_matrix = feature_matrix.sample(frac=1)\n",
    "\n",
    "# pop the target labels\n",
    "y = list(feature_matrix.pop('label'))\n",
    "X = feature_matrix.values"
   ]
  },
  {
   "cell_type": "markdown",
   "metadata": {},
   "source": [
    "The pipeline variable represents the order in which machine learning algorithms are executed. It can be used to compare models together by specifying multiple algorithms in different lists. Such as:\n",
    "```\n",
    "pipeline = [['sklearn.ensemble.RandomForestClassifier'], \n",
    "            ['sklearn.neighbors.KNeighborsClassifier']]\n",
    "```\n",
    "Here we execute two different models, the first one being Random Forest and the second is K-Nearest Neighbor (KNN).\n",
    "In addition, you can use the pipeline to create your own encoding and modeling pipeline where the data crosses several algorithms to create the prediction model. Such as:\n",
    "```\n",
    "pipeline = [['sklearn.preprocessing.StandardScaler', 'sklearn.ensemble.RandomForestClassifier'], \n",
    "            ['sklearn.neighbors.KNeighborsClassifier']]\n",
    "```\n",
    "Here there are two different models, the first one composes of two primitives (Preprocessing through normalization then applying Random Forest) and the second is basic KNN.\n",
    "More on machine learning algorithms and MLPrimitives can be found here: https://HDI-Project.github.io/MLPrimitives"
   ]
  },
  {
   "cell_type": "code",
   "execution_count": 10,
   "metadata": {
    "scrolled": true
   },
   "outputs": [],
   "source": [
    "# modeling\n",
    "pipeline = [['sklearn.ensemble.RandomForestClassifier'], \n",
    "            ['sklearn.naive_bayes.MultinomialNB'], \n",
    "            ['sklearn.neighbors.KNeighborsClassifier']]\n",
    "\n",
    "exe = cd.execute_model(feature_matrix=X,\n",
    "                       target=y, \n",
    "                       primitives=pipeline)"
   ]
  },
  {
   "cell_type": "markdown",
   "metadata": {},
   "source": [
    "## Visualize Results"
   ]
  },
  {
   "cell_type": "markdown",
   "metadata": {},
   "source": [
    "After executing the pipelines, the method returns a list composing of each pipeline with each fold representing three main results:\n",
    "* The list of primitives used.\n",
    "* The actual label vector.\n",
    "* The predicted label vector.\n",
    "* The tuned hyperparameters (if given).\n",
    "\n",
    "In order to perceive the results and look at the performance of each pipeline we can view it's training process by merely plotting the confusion matrix."
   ]
  },
  {
   "cell_type": "code",
   "execution_count": 11,
   "metadata": {},
   "outputs": [
    {
     "data": {
      "image/png": "[encoded data removed]",
      "text/plain": [
       "<Figure size 504x504 with 1 Axes>"
      ]
     },
     "metadata": {
      "needs_background": "light"
     },
     "output_type": "display_data"
    }
   ],
   "source": [
    "%matplotlib inline\n",
    "\n",
    "fig = plt.figure(figsize=(7, 7))\n",
    "\n",
    "y_test = []\n",
    "y_pred = []\n",
    "for i in range(0, 10):\n",
    "    y_test.extend(exe['pipeline0']['folds'][str(i)]['Actual'])\n",
    "    y_pred.extend(exe['pipeline0']['folds'][str(i)]['predicted'])\n",
    "\n",
    "y_test = pd.Categorical(pd.Series(y_test)).codes\n",
    "y_pred = pd.Categorical(pd.Series(y_pred)).codes\n",
    "\n",
    "plt.title(\"Confusion Matrix (accuracy=%.2f)\" % accuracy_score(y_test, y_pred))\n",
    "plt.imshow(pd.crosstab(y_test, y_pred), cmap=\"Blues\")\n",
    "\n",
    "plt.show()"
   ]
  },
  {
   "cell_type": "markdown",
   "metadata": {},
   "source": [
    "------------"
   ]
  }
 ],
 "metadata": {
  "kernelspec": {
   "display_name": "Python 3",
   "language": "python",
   "name": "python3"
  },
  "language_info": {
   "codemirror_mode": {
    "name": "ipython",
    "version": 3
   },
   "file_extension": ".py",
   "mimetype": "text/x-python",
   "name": "python",
   "nbconvert_exporter": "python",
   "pygments_lexer": "ipython3",
   "version": "3.6.8"
  },
  "widgets": {
   "state": {},
   "version": "1.1.2"
  }
 },
 "nbformat": 4,
 "nbformat_minor": 2
}
