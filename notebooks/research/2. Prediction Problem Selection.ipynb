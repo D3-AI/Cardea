{
 "cells": [
  {
   "cell_type": "markdown",
   "metadata": {},
   "source": [
    "# 2. Problem Definition\n",
    "\n",
    "This notebook is reflecting the adaptivity usecase in the Cardea [paper](https://arxiv.org/abs/2010.00509). It is concerned with using the loaded entityset from MIMIC data, and speficying the meta information as well as designing the labeling function if needed that will be required in the feature engineering phase of the framework."
   ]
  },
  {
   "cell_type": "code",
   "execution_count": 1,
   "metadata": {},
   "outputs": [],
   "source": [
    "import pickle"
   ]
  },
  {
   "cell_type": "code",
   "execution_count": 2,
   "metadata": {},
   "outputs": [],
   "source": [
    "# load the entityset from the previous step\n",
    "\n",
    "with open('./mimic_entityset.pkl', 'rb') as file:\n",
    "    entityset = pickle.load(file)"
   ]
  },
  {
   "cell_type": "markdown",
   "metadata": {},
   "source": [
    "Using this dataset, we will consider three prediction tasks:\n",
    "* predicting patient mortality\n",
    "* predicting patient readmission\n",
    "* predicting patient length of stay\n",
    "\n",
    "For each problem, we will define the `label_times` that represents label and cutoff time for each instance (unique id). For example, the `mortality` problem, we use the `hospital_expire_flag` as our label and the `admittime` as the cutoff time.\n",
    "\n",
    "In certain situations, we have a secondary time index column to denote columns that only appear after a particular time index. To read more about cutoff times, visit the featuretools [documnetation](https://docs.featuretools.com/en/v0.12.0/automated_feature_engineering/handling_time.html)."
   ]
  },
  {
   "cell_type": "code",
   "execution_count": 3,
   "metadata": {},
   "outputs": [],
   "source": [
    "problem =  'mortality' # should be one of ['los', 'mortality', 'readmission']\n",
    "    \n",
    "if problem == 'mortality':\n",
    "    label_column = 'hospital_expire_flag'\n",
    "    time_column = 'admittime'\n",
    "    secondary_time_column = 'dischtime'\n",
    "    column_id = 'hadm_id'\n",
    "    entity = 'admissions'\n",
    "    secondary_columns = ['deathtime', 'discharge_location', 'hospital_expire_flag']\n",
    "\n",
    "    entity_set_df = entityset[entity].df\n",
    "    entityset = entityset.entity_from_dataframe(entity_id=entity,\n",
    "                                                dataframe=entity_set_df,\n",
    "                                                time_index=time_column,\n",
    "                                                index=column_id,\n",
    "                                                secondary_time_index={secondary_time_column: secondary_columns})\n",
    "\n",
    "elif problem == 'los':\n",
    "    label_column = 'los'\n",
    "    time_column = 'intime'\n",
    "    column_id = 'icustay_id'\n",
    "    entity = 'icustays'\n",
    "    secondary_time_column = 'outtime'\n",
    "    secondary_columns = ['last_wardid', 'last_careunit', 'los']\n",
    "\n",
    "    entity_set_df = entityset[entity].df\n",
    "    entityset = entityset.entity_from_dataframe(entity_id=entity,\n",
    "                                                dataframe=entity_set_df,\n",
    "                                                time_index=time_column,\n",
    "                                                index=column_id,\n",
    "                                                secondary_time_index={secondary_time_column: secondary_columns})\n",
    "\n",
    "elif problem == 'readmission':\n",
    "    label_column = 'readmission'\n",
    "    time_column = 'dischtime'\n",
    "    column_id = 'hadm_id'\n",
    "    entity = 'admissions'\n",
    "    \n",
    "else:\n",
    "    raise Exception(\"problem not found.\")\n",
    "\n",
    "label_times = entityset[entity].df[[column_id, time_column, label_column]]\n",
    "label_times.columns = ['instance_id', 'time', 'label']\n",
    "label_times = label_times.sort_values('time')"
   ]
  },
  {
   "cell_type": "markdown",
   "metadata": {},
   "source": [
    "We now have the `label_times` variable ready! We store them in the following dictionary pickle, such that we can use it the following step of automatically engineering the features."
   ]
  },
  {
   "cell_type": "code",
   "execution_count": 4,
   "metadata": {},
   "outputs": [],
   "source": [
    "parameters = {\n",
    "    \"es\": entityset, \n",
    "    \"entity\": entity, \n",
    "    \"label_times\": label_times\n",
    "}\n",
    "\n",
    "with open('./{}_parameters.pkl'.format(problem), 'wb') as file:\n",
    "    pickle.dump(parameters, file)"
   ]
  }
 ],
 "metadata": {
  "kernelspec": {
   "display_name": "Python 3",
   "language": "python",
   "name": "python3"
  },
  "language_info": {
   "codemirror_mode": {
    "name": "ipython",
    "version": 3
   },
   "file_extension": ".py",
   "mimetype": "text/x-python",
   "name": "python",
   "nbconvert_exporter": "python",
   "pygments_lexer": "ipython3",
   "version": "3.6.12"
  }
 },
 "nbformat": 4,
 "nbformat_minor": 4
}
