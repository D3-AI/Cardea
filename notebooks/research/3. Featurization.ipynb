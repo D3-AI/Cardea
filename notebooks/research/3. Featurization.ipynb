{
 "cells": [
  {
   "cell_type": "markdown",
   "metadata": {},
   "source": [
    "# 3. Featurization\n",
    "\n",
    "This notebook is reflecting the adaptivity usecase in the Cardea [paper](https://arxiv.org/abs/2010.00509). It is concerned with using the `label_times` defined by the problem definiition to automatically generate features."
   ]
  },
  {
   "cell_type": "code",
   "execution_count": 1,
   "metadata": {},
   "outputs": [],
   "source": [
    "import pickle"
   ]
  },
  {
   "cell_type": "code",
   "execution_count": 2,
   "metadata": {},
   "outputs": [],
   "source": [
    "# load the label_times, entityset, and entity from the previous step\n",
    "\n",
    "problem = 'mortality'\n",
    "\n",
    "with open('./{}_parameters.pkl'.format(problem), 'rb') as file:\n",
    "    parameters = pickle.load(file)\n",
    "    \n",
    "entityset = parameters[\"es\"]\n",
    "entity = parameters[\"entity\"]\n",
    "label_times = parameters[\"label_times\"]"
   ]
  },
  {
   "cell_type": "markdown",
   "metadata": {},
   "source": [
    "Now that we have loaded the necessary variables, we can use an extension to the `Featurization` component to introduce new primitives for transformation. If no modification is necessary, we can use an instance of `Featurization` directly.\n",
    "\n",
    "Note that only `featuretools > 0.7` version will work because of diamond graph depedency.\n",
    "\n",
    "The feature engineering task takes a while to compute, be patient!"
   ]
  },
  {
   "cell_type": "code",
   "execution_count": 3,
   "metadata": {},
   "outputs": [
    {
     "name": "stdout",
     "output_type": "stream",
     "text": [
      "Built 1257 features\n",
      "Elapsed: 35:46 | Progress: 100%|██████████\n"
     ]
    }
   ],
   "source": [
    "from cardea.featurization import Featurization\n",
    "\n",
    "class Feature(Featurization):\n",
    "    @staticmethod\n",
    "    def agg_prim():\n",
    "        return [\"sum\", \"std\", \"mode\", \"mean\", \"count\"]\n",
    "\n",
    "    @staticmethod\n",
    "    def trans_prim():\n",
    "        return [\"day\", \"month\", \"year\", \"weekday\", \"is_weekend\"]\n",
    "    \n",
    "feat = Feature()\n",
    "fm_encoded, features_encoded = feat.generate_feature_matrix(entityset, entity, label_times)"
   ]
  },
  {
   "cell_type": "markdown",
   "metadata": {},
   "source": [
    "Our feature matrix is now in `fm_encoded`.\n",
    "\n",
    "We save our featurematrix as a `.csv` file."
   ]
  },
  {
   "cell_type": "code",
   "execution_count": 5,
   "metadata": {},
   "outputs": [],
   "source": [
    "fm_encoded.to_csv(\"fm.csv\")"
   ]
  }
 ],
 "metadata": {
  "kernelspec": {
   "display_name": "Python 3",
   "language": "python",
   "name": "python3"
  },
  "language_info": {
   "codemirror_mode": {
    "name": "ipython",
    "version": 3
   },
   "file_extension": ".py",
   "mimetype": "text/x-python",
   "name": "python",
   "nbconvert_exporter": "python",
   "pygments_lexer": "ipython3",
   "version": "3.6.12"
  }
 },
 "nbformat": 4,
 "nbformat_minor": 4
}
