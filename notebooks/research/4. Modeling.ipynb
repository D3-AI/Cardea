{
 "cells": [
  {
   "cell_type": "markdown",
   "metadata": {},
   "source": [
    "# 4. Modeling\n",
    "\n",
    "This notebook is reflecting the adaptivity usecase in the Cardea [paper](https://arxiv.org/abs/2010.00509). It is concerned with using AutoML for modeling prediction problems using the automatically generate features.\n",
    "\n",
    "In this notebook, we ingest the feature matrix and produce a model."
   ]
  },
  {
   "cell_type": "code",
   "execution_count": 1,
   "metadata": {},
   "outputs": [
    {
     "name": "stderr",
     "output_type": "stream",
     "text": [
      "Using TensorFlow backend.\n"
     ]
    }
   ],
   "source": [
    "import numpy as np\n",
    "import pandas as pd\n",
    "from collections import defaultdict\n",
    "\n",
    "from featuretools.selection import remove_low_information_features\n",
    "\n",
    "from model_audit import ModelAuditor\n",
    "from cardea.modeling import Modeler"
   ]
  },
  {
   "cell_type": "markdown",
   "metadata": {},
   "source": [
    "We use the same problem defined in the problem definition, and perform several transformations to prepare the data for the modeling component. In future, these transformations should be part of the `pipeline.json`."
   ]
  },
  {
   "cell_type": "code",
   "execution_count": 2,
   "metadata": {},
   "outputs": [],
   "source": [
    "# load the data (any feature matrix)\n",
    "fm = pd.read_csv(\"fm.csv\", index_col=0)\n",
    "\n",
    "# problem specifications\n",
    "problem = 'mortality'\n",
    "problem_type = 'classification'\n",
    "scoring_function = 'f1'\n",
    "minimize_cost = False\n",
    "\n",
    "fm = fm.drop_duplicates()\n",
    "    \n",
    "try:\n",
    "    fm = fm.drop([problem], axis=1)\n",
    "except:\n",
    "    pass\n",
    "\n",
    "y = fm.pop('label')\n",
    "X = remove_low_information_features(fm)\n",
    "\n",
    "X = X.fillna(0)\n",
    "X = pd.get_dummies(X)\n",
    "\n",
    "if problem == 'los':\n",
    "    y = np.digitize(y, [y.min(), 7, y.max()+1])\n",
    "\n",
    "y = pd.Categorical(y).codes"
   ]
  },
  {
   "cell_type": "markdown",
   "metadata": {},
   "source": [
    "Now we can use Cardea's `Modeler` to run train the model and tune it. The following pipelines are the pipelines that we are considering in our usecase."
   ]
  },
  {
   "cell_type": "code",
   "execution_count": 3,
   "metadata": {},
   "outputs": [],
   "source": [
    "pipelines = [\n",
    "    [['sklearn.preprocessing.MinMaxScaler', 'sklearn.naive_bayes.MultinomialNB']],\n",
    "    [['sklearn.preprocessing.MinMaxScaler', 'sklearn.ensemble.RandomForestClassifier']],\n",
    "    [['sklearn.preprocessing.MinMaxScaler', 'xgboost.XGBClassifier']],\n",
    "    [['sklearn.preprocessing.MinMaxScaler', 'sklearn.neighbors.KNeighborsClassifier']],\n",
    "    [['sklearn.preprocessing.MinMaxScaler', 'sklearn.linear_model.LogisticRegression']],\n",
    "    [['sklearn.preprocessing.MinMaxScaler', 'sklearn.linear_model.SGDClassifier']],\n",
    "    [['sklearn.preprocessing.MinMaxScaler', 'sklearn.ensemble.GradientBoostingClassifier']],\n",
    "    [['sklearn.preprocessing.MinMaxScaler', 'sklearn.naive_bayes.GaussianNB']]\n",
    "]"
   ]
  },
  {
   "cell_type": "code",
   "execution_count": 4,
   "metadata": {},
   "outputs": [
    {
     "name": "stdout",
     "output_type": "stream",
     "text": [
      "testing pipeline [['sklearn.preprocessing.MinMaxScaler', 'sklearn.naive_bayes.MultinomialNB']]\n"
     ]
    },
    {
     "name": "stderr",
     "output_type": "stream",
     "text": [
      "/Users/sarah/opt/anaconda3/envs/cardea/lib/python3.6/site-packages/sklearn/utils/validation.py:595: DataConversionWarning: Data with input dtype object was converted to float64 by MinMaxScaler.\n",
      "  warnings.warn(msg, DataConversionWarning)\n",
      "/Users/sarah/opt/anaconda3/envs/cardea/lib/python3.6/site-packages/sklearn/utils/validation.py:595: DataConversionWarning: Data with input dtype object was converted to float64 by MinMaxScaler.\n",
      "  warnings.warn(msg, DataConversionWarning)\n",
      "/Users/sarah/opt/anaconda3/envs/cardea/lib/python3.6/site-packages/sklearn/utils/validation.py:595: DataConversionWarning: Data with input dtype object was converted to float64 by MinMaxScaler.\n",
      "  warnings.warn(msg, DataConversionWarning)\n",
      "/Users/sarah/opt/anaconda3/envs/cardea/lib/python3.6/site-packages/sklearn/utils/validation.py:595: DataConversionWarning: Data with input dtype object was converted to float64 by MinMaxScaler.\n",
      "  warnings.warn(msg, DataConversionWarning)\n",
      "/Users/sarah/opt/anaconda3/envs/cardea/lib/python3.6/site-packages/sklearn/utils/validation.py:595: DataConversionWarning: Data with input dtype object was converted to float64 by MinMaxScaler.\n",
      "  warnings.warn(msg, DataConversionWarning)\n",
      "/Users/sarah/opt/anaconda3/envs/cardea/lib/python3.6/site-packages/sklearn/utils/validation.py:595: DataConversionWarning: Data with input dtype object was converted to float64 by MinMaxScaler.\n",
      "  warnings.warn(msg, DataConversionWarning)\n",
      "/Users/sarah/opt/anaconda3/envs/cardea/lib/python3.6/site-packages/sklearn/utils/validation.py:595: DataConversionWarning: Data with input dtype object was converted to float64 by MinMaxScaler.\n",
      "  warnings.warn(msg, DataConversionWarning)\n",
      "/Users/sarah/opt/anaconda3/envs/cardea/lib/python3.6/site-packages/sklearn/utils/validation.py:595: DataConversionWarning: Data with input dtype object was converted to float64 by MinMaxScaler.\n",
      "  warnings.warn(msg, DataConversionWarning)\n",
      "/Users/sarah/opt/anaconda3/envs/cardea/lib/python3.6/site-packages/sklearn/utils/validation.py:595: DataConversionWarning: Data with input dtype object was converted to float64 by MinMaxScaler.\n",
      "  warnings.warn(msg, DataConversionWarning)\n",
      "/Users/sarah/opt/anaconda3/envs/cardea/lib/python3.6/site-packages/sklearn/utils/validation.py:595: DataConversionWarning: Data with input dtype object was converted to float64 by MinMaxScaler.\n",
      "  warnings.warn(msg, DataConversionWarning)\n"
     ]
    },
    {
     "name": "stdout",
     "output_type": "stream",
     "text": [
      "testing pipeline [['sklearn.preprocessing.MinMaxScaler', 'sklearn.ensemble.RandomForestClassifier']]\n"
     ]
    },
    {
     "name": "stderr",
     "output_type": "stream",
     "text": [
      "/Users/sarah/opt/anaconda3/envs/cardea/lib/python3.6/site-packages/sklearn/utils/validation.py:595: DataConversionWarning: Data with input dtype object was converted to float64 by MinMaxScaler.\n",
      "  warnings.warn(msg, DataConversionWarning)\n",
      "/Users/sarah/opt/anaconda3/envs/cardea/lib/python3.6/site-packages/sklearn/utils/validation.py:595: DataConversionWarning: Data with input dtype object was converted to float64 by MinMaxScaler.\n",
      "  warnings.warn(msg, DataConversionWarning)\n",
      "/Users/sarah/opt/anaconda3/envs/cardea/lib/python3.6/site-packages/sklearn/utils/validation.py:595: DataConversionWarning: Data with input dtype object was converted to float64 by MinMaxScaler.\n",
      "  warnings.warn(msg, DataConversionWarning)\n",
      "/Users/sarah/opt/anaconda3/envs/cardea/lib/python3.6/site-packages/sklearn/utils/validation.py:595: DataConversionWarning: Data with input dtype object was converted to float64 by MinMaxScaler.\n",
      "  warnings.warn(msg, DataConversionWarning)\n",
      "/Users/sarah/opt/anaconda3/envs/cardea/lib/python3.6/site-packages/sklearn/utils/validation.py:595: DataConversionWarning: Data with input dtype object was converted to float64 by MinMaxScaler.\n",
      "  warnings.warn(msg, DataConversionWarning)\n",
      "/Users/sarah/opt/anaconda3/envs/cardea/lib/python3.6/site-packages/sklearn/utils/validation.py:595: DataConversionWarning: Data with input dtype object was converted to float64 by MinMaxScaler.\n",
      "  warnings.warn(msg, DataConversionWarning)\n",
      "/Users/sarah/opt/anaconda3/envs/cardea/lib/python3.6/site-packages/sklearn/utils/validation.py:595: DataConversionWarning: Data with input dtype object was converted to float64 by MinMaxScaler.\n",
      "  warnings.warn(msg, DataConversionWarning)\n",
      "/Users/sarah/opt/anaconda3/envs/cardea/lib/python3.6/site-packages/sklearn/utils/validation.py:595: DataConversionWarning: Data with input dtype object was converted to float64 by MinMaxScaler.\n",
      "  warnings.warn(msg, DataConversionWarning)\n",
      "/Users/sarah/opt/anaconda3/envs/cardea/lib/python3.6/site-packages/sklearn/utils/validation.py:595: DataConversionWarning: Data with input dtype object was converted to float64 by MinMaxScaler.\n",
      "  warnings.warn(msg, DataConversionWarning)\n",
      "/Users/sarah/opt/anaconda3/envs/cardea/lib/python3.6/site-packages/sklearn/utils/validation.py:595: DataConversionWarning: Data with input dtype object was converted to float64 by MinMaxScaler.\n",
      "  warnings.warn(msg, DataConversionWarning)\n"
     ]
    },
    {
     "name": "stdout",
     "output_type": "stream",
     "text": [
      "testing pipeline [['sklearn.preprocessing.MinMaxScaler', 'xgboost.XGBClassifier']]\n"
     ]
    },
    {
     "name": "stderr",
     "output_type": "stream",
     "text": [
      "/Users/sarah/opt/anaconda3/envs/cardea/lib/python3.6/site-packages/sklearn/utils/validation.py:595: DataConversionWarning: Data with input dtype object was converted to float64 by MinMaxScaler.\n",
      "  warnings.warn(msg, DataConversionWarning)\n",
      "/Users/sarah/opt/anaconda3/envs/cardea/lib/python3.6/site-packages/sklearn/utils/validation.py:595: DataConversionWarning: Data with input dtype object was converted to float64 by MinMaxScaler.\n",
      "  warnings.warn(msg, DataConversionWarning)\n",
      "/Users/sarah/opt/anaconda3/envs/cardea/lib/python3.6/site-packages/sklearn/utils/validation.py:595: DataConversionWarning: Data with input dtype object was converted to float64 by MinMaxScaler.\n",
      "  warnings.warn(msg, DataConversionWarning)\n",
      "/Users/sarah/opt/anaconda3/envs/cardea/lib/python3.6/site-packages/sklearn/utils/validation.py:595: DataConversionWarning: Data with input dtype object was converted to float64 by MinMaxScaler.\n",
      "  warnings.warn(msg, DataConversionWarning)\n",
      "/Users/sarah/opt/anaconda3/envs/cardea/lib/python3.6/site-packages/sklearn/utils/validation.py:595: DataConversionWarning: Data with input dtype object was converted to float64 by MinMaxScaler.\n",
      "  warnings.warn(msg, DataConversionWarning)\n",
      "/Users/sarah/opt/anaconda3/envs/cardea/lib/python3.6/site-packages/sklearn/utils/validation.py:595: DataConversionWarning: Data with input dtype object was converted to float64 by MinMaxScaler.\n",
      "  warnings.warn(msg, DataConversionWarning)\n",
      "/Users/sarah/opt/anaconda3/envs/cardea/lib/python3.6/site-packages/sklearn/utils/validation.py:595: DataConversionWarning: Data with input dtype object was converted to float64 by MinMaxScaler.\n",
      "  warnings.warn(msg, DataConversionWarning)\n",
      "/Users/sarah/opt/anaconda3/envs/cardea/lib/python3.6/site-packages/sklearn/utils/validation.py:595: DataConversionWarning: Data with input dtype object was converted to float64 by MinMaxScaler.\n",
      "  warnings.warn(msg, DataConversionWarning)\n",
      "/Users/sarah/opt/anaconda3/envs/cardea/lib/python3.6/site-packages/sklearn/utils/validation.py:595: DataConversionWarning: Data with input dtype object was converted to float64 by MinMaxScaler.\n",
      "  warnings.warn(msg, DataConversionWarning)\n",
      "/Users/sarah/opt/anaconda3/envs/cardea/lib/python3.6/site-packages/sklearn/utils/validation.py:595: DataConversionWarning: Data with input dtype object was converted to float64 by MinMaxScaler.\n",
      "  warnings.warn(msg, DataConversionWarning)\n"
     ]
    },
    {
     "name": "stdout",
     "output_type": "stream",
     "text": [
      "testing pipeline [['sklearn.preprocessing.MinMaxScaler', 'sklearn.neighbors.KNeighborsClassifier']]\n"
     ]
    },
    {
     "name": "stderr",
     "output_type": "stream",
     "text": [
      "/Users/sarah/opt/anaconda3/envs/cardea/lib/python3.6/site-packages/sklearn/utils/validation.py:595: DataConversionWarning: Data with input dtype object was converted to float64 by MinMaxScaler.\n",
      "  warnings.warn(msg, DataConversionWarning)\n",
      "/Users/sarah/opt/anaconda3/envs/cardea/lib/python3.6/site-packages/sklearn/utils/validation.py:595: DataConversionWarning: Data with input dtype object was converted to float64 by MinMaxScaler.\n",
      "  warnings.warn(msg, DataConversionWarning)\n",
      "/Users/sarah/opt/anaconda3/envs/cardea/lib/python3.6/site-packages/sklearn/utils/validation.py:595: DataConversionWarning: Data with input dtype object was converted to float64 by MinMaxScaler.\n",
      "  warnings.warn(msg, DataConversionWarning)\n",
      "/Users/sarah/opt/anaconda3/envs/cardea/lib/python3.6/site-packages/sklearn/utils/validation.py:595: DataConversionWarning: Data with input dtype object was converted to float64 by MinMaxScaler.\n",
      "  warnings.warn(msg, DataConversionWarning)\n",
      "/Users/sarah/opt/anaconda3/envs/cardea/lib/python3.6/site-packages/sklearn/utils/validation.py:595: DataConversionWarning: Data with input dtype object was converted to float64 by MinMaxScaler.\n",
      "  warnings.warn(msg, DataConversionWarning)\n",
      "/Users/sarah/opt/anaconda3/envs/cardea/lib/python3.6/site-packages/sklearn/utils/validation.py:595: DataConversionWarning: Data with input dtype object was converted to float64 by MinMaxScaler.\n",
      "  warnings.warn(msg, DataConversionWarning)\n",
      "/Users/sarah/opt/anaconda3/envs/cardea/lib/python3.6/site-packages/sklearn/utils/validation.py:595: DataConversionWarning: Data with input dtype object was converted to float64 by MinMaxScaler.\n",
      "  warnings.warn(msg, DataConversionWarning)\n",
      "/Users/sarah/opt/anaconda3/envs/cardea/lib/python3.6/site-packages/sklearn/utils/validation.py:595: DataConversionWarning: Data with input dtype object was converted to float64 by MinMaxScaler.\n",
      "  warnings.warn(msg, DataConversionWarning)\n",
      "/Users/sarah/opt/anaconda3/envs/cardea/lib/python3.6/site-packages/sklearn/utils/validation.py:595: DataConversionWarning: Data with input dtype object was converted to float64 by MinMaxScaler.\n",
      "  warnings.warn(msg, DataConversionWarning)\n",
      "/Users/sarah/opt/anaconda3/envs/cardea/lib/python3.6/site-packages/sklearn/utils/validation.py:595: DataConversionWarning: Data with input dtype object was converted to float64 by MinMaxScaler.\n",
      "  warnings.warn(msg, DataConversionWarning)\n"
     ]
    }
   ],
   "source": [
    "results = defaultdict(list)\n",
    "\n",
    "modeler = Modeler()\n",
    "for pipeline in pipelines:\n",
    "    print(\"testing pipeline {}\".format(str(pipeline)))\n",
    "    pipeline_res = modeler.execute_pipeline(np.array(X), np.array(y), pipeline, problem_type, optimize=True,\n",
    "                                            minimize_cost=minimize_cost, scoring=scoring_function, max_evals=10)\n",
    "\n",
    "    results[str(pipeline)].append(pipeline_res)"
   ]
  },
  {
   "cell_type": "markdown",
   "metadata": {},
   "source": [
    "Now to view the results. In `results` we now hold a list of the kfold predictions. We compute the metric and average the results across `kfolds` to represent the result of each pipeline."
   ]
  },
  {
   "cell_type": "code",
   "execution_count": 5,
   "metadata": {},
   "outputs": [
    {
     "name": "stdout",
     "output_type": "stream",
     "text": [
      "[['sklearn.preprocessing.MinMaxScaler', 'sklearn.naive_bayes.MultinomialNB']]\n",
      "Accuracy score 0.83\n",
      "F1 Macro score 0.56\n",
      "[['sklearn.preprocessing.MinMaxScaler', 'sklearn.ensemble.RandomForestClassifier']]\n",
      "Accuracy score 0.88\n",
      "F1 Macro score 0.61\n",
      "[['sklearn.preprocessing.MinMaxScaler', 'xgboost.XGBClassifier']]\n",
      "Accuracy score 0.93\n",
      "F1 Macro score 0.63\n",
      "[['sklearn.preprocessing.MinMaxScaler', 'sklearn.neighbors.KNeighborsClassifier']]\n",
      "Accuracy score 0.88\n",
      "F1 Macro score 0.57\n"
     ]
    }
   ],
   "source": [
    "from sklearn.metrics import accuracy_score, f1_score\n",
    "\n",
    "for pipeline in pipelines:\n",
    "    accuracy = []\n",
    "    f1 = []\n",
    "    for i in range(0, 10):\n",
    "        y_test = results[str(pipeline)][0]['pipeline0']['folds'][str(i)]['Actual']\n",
    "        y_pred = results[str(pipeline)][0]['pipeline0']['folds'][str(i)]['predicted']\n",
    "\n",
    "        # you can insert any metric here\n",
    "        accuracy.append(accuracy_score(y_test, y_pred))\n",
    "        f1.append(f1_score(y_test, y_pred, average='macro'))\n",
    "        \n",
    "    print(str(pipeline))\n",
    "    print(\"Accuracy score {:.2f}\".format(np.mean(accuracy)))\n",
    "    print(\"F1 Macro score {:.2f}\".format(np.mean(f1)))"
   ]
  }
 ],
 "metadata": {
  "kernelspec": {
   "display_name": "Python 3",
   "language": "python",
   "name": "python3"
  },
  "language_info": {
   "codemirror_mode": {
    "name": "ipython",
    "version": 3
   },
   "file_extension": ".py",
   "mimetype": "text/x-python",
   "name": "python",
   "nbconvert_exporter": "python",
   "pygments_lexer": "ipython3",
   "version": "3.6.12"
  }
 },
 "nbformat": 4,
 "nbformat_minor": 4
}
