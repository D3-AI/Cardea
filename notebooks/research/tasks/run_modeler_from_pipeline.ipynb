{
 "cells": [
  {
   "cell_type": "code",
   "execution_count": null,
   "metadata": {},
   "outputs": [],
   "source": [
    "import os\n",
    "import json\n",
    "\n",
    "import pandas as pd\n",
    "import numpy as np\n",
    "\n",
    "from cardea.modeling import Modeler\n",
    "from mlblocks import add_primitives_path, MLPipeline"
   ]
  },
  {
   "cell_type": "code",
   "execution_count": null,
   "metadata": {},
   "outputs": [],
   "source": [
    "root_path = os.path.abspath(os.path.join(os.getcwd(), '../../../'))\n",
    "pipelines_path = os.path.join(root_path, 'cardea', 'pipelines')\n",
    "primitives_path = os.path.join(root_path, 'cardea', 'primitives')\n",
    "fm_path = os.path.join(root_path, 'benchmark', 'verified', 'Problems')\n",
    "\n",
    "add_primitives_path(os.path.join(primitives_path, 'jsons'))"
   ]
  },
  {
   "cell_type": "code",
   "execution_count": null,
   "metadata": {},
   "outputs": [],
   "source": [
    "dataFrame = pd.read_csv(os.path.join(fm_path, 'LOS', 'mimic-iii-ft.csv'), \n",
    "                        index_col=0).reset_index(drop=True)[:1000]\n",
    "target_name = 'label'\n",
    "target = dataFrame.pop(target_name)\n",
    "target = np.digitize(target, [0, 7])"
   ]
  },
  {
   "cell_type": "code",
   "execution_count": null,
   "metadata": {},
   "outputs": [],
   "source": [
    "with open(os.path.join(pipelines_path, 'linear_regression_end2end.json')) as f:\n",
    "    pipeline_dict = json.load(f)\n",
    "pipeline = MLPipeline.from_dict(pipeline_dict)\n",
    "# pipeline.to_dict()"
   ]
  },
  {
   "cell_type": "code",
   "execution_count": null,
   "metadata": {},
   "outputs": [],
   "source": [
    "modeler = Modeler()\n",
    "results = modeler.execute_pipeline_from_pipeline(dataFrame, target, [pipeline], \"classification\")"
   ]
  }
 ],
 "metadata": {
  "kernelspec": {
   "display_name": "Python (cardea-venv)",
   "language": "python",
   "name": "cardea-venv"
  },
  "language_info": {
   "codemirror_mode": {
    "name": "ipython",
    "version": 3
   },
   "file_extension": ".py",
   "mimetype": "text/x-python",
   "name": "python",
   "nbconvert_exporter": "python",
   "pygments_lexer": "ipython3",
   "version": "3.6.0"
  }
 },
 "nbformat": 4,
 "nbformat_minor": 4
}
