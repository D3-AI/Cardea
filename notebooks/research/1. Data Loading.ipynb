{
 "cells": [
  {
   "cell_type": "markdown",
   "metadata": {},
   "source": [
    "# 1. Data Loading\n",
    "\n",
    "This notebook is reflecting the adaptivity usecase in the Cardea [paper](https://arxiv.org/abs/2010.00509). It is concerned with loading the MIMIC data from a specified location into an entityset representation, then we work on storing the entityset into a pickle file."
   ]
  },
  {
   "cell_type": "code",
   "execution_count": 1,
   "metadata": {},
   "outputs": [],
   "source": [
    "import pickle\n",
    "\n",
    "from cardea.data_loader.load_mimic import load_mimic_data"
   ]
  },
  {
   "cell_type": "markdown",
   "metadata": {},
   "source": [
    "To load the MIMIC data, we use the `load_mimic_data` function which translates the schema of MIMIC into its entityset representation. The loaded data can be any subset of MIMIC and not necessarily all of the tables. Additionally, you can specify if you only want certain tables in the entityset by using `subset=['table1', 'table2', ..]`. \n",
    "\n",
    "Depending on the size of the tables, this can take upto several minutes."
   ]
  },
  {
   "cell_type": "code",
   "execution_count": 2,
   "metadata": {},
   "outputs": [
    {
     "data": {
      "text/plain": [
       "Entityset: mimic\n",
       "  Entities:\n",
       "    admissions [Rows: 1247, Columns: 19]\n",
       "    callout [Rows: 721, Columns: 24]\n",
       "    chartevents [Rows: 7401634, Columns: 15]\n",
       "    cptevents [Rows: 12352, Columns: 12]\n",
       "    datetimeevents [Rows: 97853, Columns: 14]\n",
       "    diagnoses_icd [Rows: 13886, Columns: 5]\n",
       "    drgcodes [Rows: 2652, Columns: 8]\n",
       "    icustays [Rows: 1312, Columns: 12]\n",
       "    inputevents_cv [Rows: 389220, Columns: 22]\n",
       "    inputevents_mv [Rows: 76656, Columns: 31]\n",
       "    labevents [Rows: 635846, Columns: 9]\n",
       "    microbiologyevents [Rows: 13020, Columns: 16]\n",
       "    outputevents [Rows: 91378, Columns: 13]\n",
       "    patients [Rows: 1000, Columns: 8]\n",
       "    prescriptions [Rows: 91742, Columns: 19]\n",
       "    procedureevents_mv [Rows: 5204, Columns: 25]\n",
       "    procedures_icd [Rows: 5362, Columns: 5]\n",
       "    services [Rows: 1579, Columns: 6]\n",
       "    transfers [Rows: 5764, Columns: 13]\n",
       "  Relationships:\n",
       "    callout.hadm_id -> admissions.hadm_id\n",
       "    chartevents.hadm_id -> admissions.hadm_id\n",
       "    cptevents.hadm_id -> admissions.hadm_id\n",
       "    datetimeevents.hadm_id -> admissions.hadm_id\n",
       "    diagnoses_icd.hadm_id -> admissions.hadm_id\n",
       "    drgcodes.hadm_id -> admissions.hadm_id\n",
       "    icustays.hadm_id -> admissions.hadm_id\n",
       "    inputevents_cv.hadm_id -> admissions.hadm_id\n",
       "    inputevents_mv.hadm_id -> admissions.hadm_id\n",
       "    labevents.hadm_id -> admissions.hadm_id\n",
       "    microbiologyevents.hadm_id -> admissions.hadm_id\n",
       "    outputevents.hadm_id -> admissions.hadm_id\n",
       "    prescriptions.hadm_id -> admissions.hadm_id\n",
       "    procedureevents_mv.hadm_id -> admissions.hadm_id\n",
       "    procedures_icd.hadm_id -> admissions.hadm_id\n",
       "    services.hadm_id -> admissions.hadm_id\n",
       "    transfers.hadm_id -> admissions.hadm_id\n",
       "    chartevents.icustay_id -> icustays.icustay_id\n",
       "    datetimeevents.icustay_id -> icustays.icustay_id\n",
       "    inputevents_cv.icustay_id -> icustays.icustay_id\n",
       "    inputevents_mv.icustay_id -> icustays.icustay_id\n",
       "    outputevents.icustay_id -> icustays.icustay_id\n",
       "    prescriptions.icustay_id -> icustays.icustay_id\n",
       "    procedureevents_mv.icustay_id -> icustays.icustay_id\n",
       "    transfers.icustay_id -> icustays.icustay_id\n",
       "    admissions.subject_id -> patients.subject_id\n",
       "    callout.subject_id -> patients.subject_id\n",
       "    chartevents.subject_id -> patients.subject_id\n",
       "    cptevents.subject_id -> patients.subject_id\n",
       "    datetimeevents.subject_id -> patients.subject_id\n",
       "    diagnoses_icd.subject_id -> patients.subject_id\n",
       "    drgcodes.subject_id -> patients.subject_id\n",
       "    icustays.subject_id -> patients.subject_id\n",
       "    inputevents_cv.subject_id -> patients.subject_id\n",
       "    inputevents_mv.subject_id -> patients.subject_id\n",
       "    labevents.subject_id -> patients.subject_id\n",
       "    microbiologyevents.subject_id -> patients.subject_id\n",
       "    outputevents.subject_id -> patients.subject_id\n",
       "    prescriptions.subject_id -> patients.subject_id\n",
       "    procedureevents_mv.subject_id -> patients.subject_id\n",
       "    procedures_icd.subject_id -> patients.subject_id\n",
       "    services.subject_id -> patients.subject_id\n",
       "    transfers.subject_id -> patients.subject_id"
      ]
     },
     "execution_count": 2,
     "metadata": {},
     "output_type": "execute_result"
    }
   ],
   "source": [
    "folder_path = 'path/to/data/'\n",
    "\n",
    "entityset = load_mimic_data(folder_path)\n",
    "entityset"
   ]
  },
  {
   "cell_type": "markdown",
   "metadata": {},
   "source": [
    "The meaning of the entityset is represented by \"entities\" and \"relationships\". We can think of the entities being the tables of the data, and the relationship represents how each table is related to another and using what variable. As an example, we can see that `labevents.hadm_id -> admissions.hadm_id` which means that the column in `hadm_id` in `labelevents` references an admission instance through `hadm_id` in `admissions`."
   ]
  },
  {
   "cell_type": "code",
   "execution_count": 3,
   "metadata": {},
   "outputs": [],
   "source": [
    "with open('./mimic_entityset.pkl', 'wb') as file:\n",
    "    pickle.dump(entityset, file)"
   ]
  }
 ],
 "metadata": {
  "kernelspec": {
   "display_name": "Python 3",
   "language": "python",
   "name": "python3"
  },
  "language_info": {
   "codemirror_mode": {
    "name": "ipython",
    "version": 3
   },
   "file_extension": ".py",
   "mimetype": "text/x-python",
   "name": "python",
   "nbconvert_exporter": "python",
   "pygments_lexer": "ipython3",
   "version": "3.6.12"
  }
 },
 "nbformat": 4,
 "nbformat_minor": 4
}
